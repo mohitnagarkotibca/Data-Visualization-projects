{
 "cells": [
  {
   "cell_type": "code",
   "execution_count": 1,
   "metadata": {},
   "outputs": [],
   "source": [
    "import os\n",
    "import pandas as pd\n",
    "from IPython.display import Javascript\n",
    "from IPython.core.display import display\n",
    "from IPython.core.display import HTML\n",
    "import plotly.express as px\n",
    "import pycountry as pyc\n",
    "import pycountry_convert as pc\n",
    "import re\n",
    "import plotly.graph_objects as go\n",
    "import plotly.io as pio\n",
    "\n",
    "\n",
    "pio.templates.default = \"plotly_white\""
   ]
  },
  {
   "cell_type": "code",
   "execution_count": 2,
   "metadata": {},
   "outputs": [
    {
     "data": {
      "text/plain": [
       "['Country_wise_data.csv',\n",
       " 'time_series_covid19_confirmed_global.csv',\n",
       " 'time_series_covid19_deaths_global.csv',\n",
       " 'time_series_covid19_recovered_global.csv']"
      ]
     },
     "execution_count": 2,
     "metadata": {},
     "output_type": "execute_result"
    }
   ],
   "source": [
    "os.listdir('Data')"
   ]
  },
  {
   "cell_type": "code",
   "execution_count": 3,
   "metadata": {},
   "outputs": [],
   "source": [
    "df_cg= pd.read_csv('Data/time_series_covid19_confirmed_global.csv')\n",
    "df_dg= pd.read_csv('Data/time_series_covid19_deaths_global.csv')\n",
    "df_rg= pd.read_csv('Data/time_series_covid19_recovered_global.csv')\n",
    "df_country_wise= pd.read_csv('Data/Country_wise_data.csv')"
   ]
  },
  {
   "cell_type": "code",
   "execution_count": 4,
   "metadata": {},
   "outputs": [
    {
     "name": "stdout",
     "output_type": "stream",
     "text": [
      "Worldwide Confirmed case file has 267 rows and 275 columns\n",
      "Worldwide deaths case file has 267 rows and 275 columns\n",
      "Worldwide recovered cases file has 254 rows and 275 columns\n"
     ]
    }
   ],
   "source": [
    "print(f'Worldwide Confirmed case file has {df_cg.shape[0]} rows and {df_cg.shape[1]} columns')\n",
    "print(f'Worldwide deaths case file has {df_dg.shape[0]} rows and {df_dg.shape[1]} columns')\n",
    "print(f'Worldwide recovered cases file has {df_rg.shape[0]} rows and {df_rg.shape[1]} columns')"
   ]
  },
  {
   "cell_type": "code",
   "execution_count": 5,
   "metadata": {},
   "outputs": [
    {
     "name": "stdout",
     "output_type": "stream",
     "text": [
      "Worldwide Confirmed case file column \"Province/State\" has 186 empty values\n",
      "Worldwide deaths case column \"Province/State\" has 186 empty values\n",
      "Worldwide recovered cases file column \"Province/State\" has 187 empty values\n"
     ]
    }
   ],
   "source": [
    "def check_na(df):\n",
    "    return df.isna().sum()[df.isna().sum()>0]\n",
    "\n",
    "print(f'Worldwide Confirmed case file column \"{check_na(df_cg).index[0]}\" has {check_na(df_cg).values[0]} empty values')\n",
    "print(f'Worldwide deaths case column \"{check_na(df_dg).index[0]}\" has {check_na(df_dg).values[0]} empty values')\n",
    "print(f'Worldwide recovered cases file column \"{check_na(df_rg).index[0]}\" has {check_na(df_rg).values[0]} empty values')"
   ]
  },
  {
   "cell_type": "code",
   "execution_count": 6,
   "metadata": {},
   "outputs": [],
   "source": [
    "dates= df_cg.columns[4:]\n",
    "dates_cg= df_cg.columns[4:]\n",
    "info_cg=list(df_cg.columns[:4])\n",
    "info_cg.append('total')\n",
    "df_cg_temp= df_cg.copy()\n",
    "df_cg_temp['total']= df_cg[dates_cg].sum(axis=1)+1\n",
    "\n",
    "dates_dg= df_dg.columns[4:]\n",
    "info_dg=list(df_dg.columns[:4])\n",
    "info_dg.append('total')\n",
    "df_dg_temp= df_dg.copy()\n",
    "df_dg_temp['total']= df_dg[dates_dg].sum(axis=1)+1\n",
    "\n",
    "dates_rg= df_rg.columns[4:]\n",
    "info_rg=list(df_rg.columns[:4])\n",
    "info_rg.append('total')\n",
    "df_rg_temp= df_rg.copy()\n",
    "df_rg_temp['total']= df_rg[dates_rg].sum(axis=1)+1"
   ]
  },
  {
   "cell_type": "markdown",
   "metadata": {},
   "source": [
    "##  Question 1: what is the current  Situation of Covid 19 around the globe ?"
   ]
  },
  {
   "cell_type": "code",
   "execution_count": 7,
   "metadata": {
    "scrolled": false
   },
   "outputs": [
    {
     "data": {
      "text/html": [
       "<style  type=\"text/css\" >\n",
       "    #T_ea96a274_16ed_11eb_a149_7429afda3b5crow0_col4 {\n",
       "            background-color:  #023858;\n",
       "            color:  #f1f1f1;\n",
       "        }    #T_ea96a274_16ed_11eb_a149_7429afda3b5crow1_col4 {\n",
       "            background-color:  #69a5cc;\n",
       "            color:  #000000;\n",
       "        }    #T_ea96a274_16ed_11eb_a149_7429afda3b5crow2_col4 {\n",
       "            background-color:  #76aad0;\n",
       "            color:  #000000;\n",
       "        }    #T_ea96a274_16ed_11eb_a149_7429afda3b5crow3_col4 {\n",
       "            background-color:  #f2ecf5;\n",
       "            color:  #000000;\n",
       "        }    #T_ea96a274_16ed_11eb_a149_7429afda3b5crow4_col4 {\n",
       "            background-color:  #fff7fb;\n",
       "            color:  #000000;\n",
       "        }</style><table id=\"T_ea96a274_16ed_11eb_a149_7429afda3b5c\" ><thead>    <tr>        <th class=\"blank level0\" ></th>        <th class=\"col_heading level0 col0\" >Province/State</th>        <th class=\"col_heading level0 col1\" >Country/Region</th>        <th class=\"col_heading level0 col2\" >Lat</th>        <th class=\"col_heading level0 col3\" >Long</th>        <th class=\"col_heading level0 col4\" >total</th>    </tr></thead><tbody>\n",
       "                <tr>\n",
       "                        <th id=\"T_ea96a274_16ed_11eb_a149_7429afda3b5clevel0_row0\" class=\"row_heading level0 row0\" >243</th>\n",
       "                        <td id=\"T_ea96a274_16ed_11eb_a149_7429afda3b5crow0_col0\" class=\"data row0 col0\" >nan</td>\n",
       "                        <td id=\"T_ea96a274_16ed_11eb_a149_7429afda3b5crow0_col1\" class=\"data row0 col1\" >US</td>\n",
       "                        <td id=\"T_ea96a274_16ed_11eb_a149_7429afda3b5crow0_col2\" class=\"data row0 col2\" >40.000000</td>\n",
       "                        <td id=\"T_ea96a274_16ed_11eb_a149_7429afda3b5crow0_col3\" class=\"data row0 col3\" >-100.000000</td>\n",
       "                        <td id=\"T_ea96a274_16ed_11eb_a149_7429afda3b5crow0_col4\" class=\"data row0 col4\" >746265153</td>\n",
       "            </tr>\n",
       "            <tr>\n",
       "                        <th id=\"T_ea96a274_16ed_11eb_a149_7429afda3b5clevel0_row1\" class=\"row_heading level0 row1\" >30</th>\n",
       "                        <td id=\"T_ea96a274_16ed_11eb_a149_7429afda3b5crow1_col0\" class=\"data row1 col0\" >nan</td>\n",
       "                        <td id=\"T_ea96a274_16ed_11eb_a149_7429afda3b5crow1_col1\" class=\"data row1 col1\" >Brazil</td>\n",
       "                        <td id=\"T_ea96a274_16ed_11eb_a149_7429afda3b5crow1_col2\" class=\"data row1 col2\" >-14.235000</td>\n",
       "                        <td id=\"T_ea96a274_16ed_11eb_a149_7429afda3b5crow1_col3\" class=\"data row1 col3\" >-51.925300</td>\n",
       "                        <td id=\"T_ea96a274_16ed_11eb_a149_7429afda3b5crow1_col4\" class=\"data row1 col4\" >425648502</td>\n",
       "            </tr>\n",
       "            <tr>\n",
       "                        <th id=\"T_ea96a274_16ed_11eb_a149_7429afda3b5clevel0_row2\" class=\"row_heading level0 row2\" >143</th>\n",
       "                        <td id=\"T_ea96a274_16ed_11eb_a149_7429afda3b5crow2_col0\" class=\"data row2 col0\" >nan</td>\n",
       "                        <td id=\"T_ea96a274_16ed_11eb_a149_7429afda3b5crow2_col1\" class=\"data row2 col1\" >India</td>\n",
       "                        <td id=\"T_ea96a274_16ed_11eb_a149_7429afda3b5crow2_col2\" class=\"data row2 col2\" >20.593684</td>\n",
       "                        <td id=\"T_ea96a274_16ed_11eb_a149_7429afda3b5crow2_col3\" class=\"data row2 col3\" >78.962880</td>\n",
       "                        <td id=\"T_ea96a274_16ed_11eb_a149_7429afda3b5crow2_col4\" class=\"data row2 col4\" >407691001</td>\n",
       "            </tr>\n",
       "            <tr>\n",
       "                        <th id=\"T_ea96a274_16ed_11eb_a149_7429afda3b5clevel0_row3\" class=\"row_heading level0 row3\" >208</th>\n",
       "                        <td id=\"T_ea96a274_16ed_11eb_a149_7429afda3b5crow3_col0\" class=\"data row3 col0\" >nan</td>\n",
       "                        <td id=\"T_ea96a274_16ed_11eb_a149_7429afda3b5crow3_col1\" class=\"data row3 col1\" >Russia</td>\n",
       "                        <td id=\"T_ea96a274_16ed_11eb_a149_7429afda3b5crow3_col2\" class=\"data row3 col2\" >61.524010</td>\n",
       "                        <td id=\"T_ea96a274_16ed_11eb_a149_7429afda3b5crow3_col3\" class=\"data row3 col3\" >105.318756</td>\n",
       "                        <td id=\"T_ea96a274_16ed_11eb_a149_7429afda3b5crow3_col4\" class=\"data row3 col4\" >132516562</td>\n",
       "            </tr>\n",
       "            <tr>\n",
       "                        <th id=\"T_ea96a274_16ed_11eb_a149_7429afda3b5clevel0_row4\" class=\"row_heading level0 row4\" >202</th>\n",
       "                        <td id=\"T_ea96a274_16ed_11eb_a149_7429afda3b5crow4_col0\" class=\"data row4 col0\" >nan</td>\n",
       "                        <td id=\"T_ea96a274_16ed_11eb_a149_7429afda3b5crow4_col1\" class=\"data row4 col1\" >Peru</td>\n",
       "                        <td id=\"T_ea96a274_16ed_11eb_a149_7429afda3b5crow4_col2\" class=\"data row4 col2\" >-9.190000</td>\n",
       "                        <td id=\"T_ea96a274_16ed_11eb_a149_7429afda3b5crow4_col3\" class=\"data row4 col3\" >-75.015200</td>\n",
       "                        <td id=\"T_ea96a274_16ed_11eb_a149_7429afda3b5crow4_col4\" class=\"data row4 col4\" >74471114</td>\n",
       "            </tr>\n",
       "    </tbody></table>"
      ],
      "text/plain": [
       "<pandas.io.formats.style.Styler at 0xefd313e6d8>"
      ]
     },
     "execution_count": 7,
     "metadata": {},
     "output_type": "execute_result"
    }
   ],
   "source": [
    "df_cg_temp= df_cg_temp[info_cg].sort_values(by='total',ascending=False)\n",
    "df_cg_temp[info_cg].head().style.background_gradient(subset='total',cmap='PuBu')"
   ]
  },
  {
   "cell_type": "code",
   "execution_count": 8,
   "metadata": {},
   "outputs": [],
   "source": [
    "# parameters= df,\n",
    "# path(col names representing the manner in which the layers will be made ex: world,continent,country\n",
    "# ),values(single value reperesenting size)\n",
    "# fig = px.treemap(\n",
    "#     names = ['A','B','C'],\n",
    "#     parents = ['','A','A'],\n",
    "#     values=[10,12,4]\n",
    "# )\n",
    "# fig.show()"
   ]
  },
  {
   "cell_type": "code",
   "execution_count": 9,
   "metadata": {},
   "outputs": [],
   "source": [
    "def change_error_countries(df):\n",
    "    df['Country/Region']= df['Country/Region'].str.replace(r'(Korea, South)','Korea')\n",
    "    df['Country/Region']= df['Country/Region'].str.replace(r'(Congo \\(Kinshasa\\))','Congo')\n",
    "    df['Country/Region']= df['Country/Region'].str.replace(r'(West Bank and Gaza)','Palestine')\n",
    "    df['Country/Region']= df['Country/Region'].str.replace(r'(Burma)','Myanmar')\n",
    "    df['Country/Region']= df['Country/Region'].str.replace(r'(Congo \\(Brazzaville\\))','Congo')\n",
    "    df['Country/Region']= df['Country/Region'].str.replace(r'(Diamond Princess)','London')\n",
    "    df['Country/Region']= df['Country/Region'].str.replace(r'(Taiwan\\*)','Taiwan')\n",
    "    df['Country/Region']= df['Country/Region'].str.replace(r'(Timor-Leste)','Indonesia')\n",
    "    df['Country/Region']= df['Country/Region'].str.replace(r'(Laos)','Thailand')\n",
    "    df['Country/Region']= df['Country/Region'].str.replace(r'(Holy See)','Rome')\n",
    "    df['Country/Region']= df['Country/Region'].str.replace(r'(Western Sahara)','Africa')\n",
    "    df['Country/Region']= df['Country/Region'].str.replace(r'(MS Zaandam)','Italy')\n",
    "    return df\n",
    "df_cg_temp= change_error_countries(df_cg_temp)\n",
    "df_dg_temp= change_error_countries(df_dg_temp)\n",
    "df_rg_temp= change_error_countries(df_rg_temp)\n",
    "df_cg= change_error_countries(df_cg)\n",
    "df_dg= change_error_countries(df_dg)\n",
    "df_rg= change_error_countries(df_rg)"
   ]
  },
  {
   "cell_type": "code",
   "execution_count": 10,
   "metadata": {},
   "outputs": [
    {
     "ename": "KeyboardInterrupt",
     "evalue": "",
     "output_type": "error",
     "traceback": [
      "\u001b[1;31m---------------------------------------------------------------------------\u001b[0m",
      "\u001b[1;31mKeyboardInterrupt\u001b[0m                         Traceback (most recent call last)",
      "\u001b[1;32m<ipython-input-10-ca293fc541a8>\u001b[0m in \u001b[0;36m<module>\u001b[1;34m\u001b[0m\n\u001b[0;32m      7\u001b[0m     \u001b[1;32mreturn\u001b[0m \u001b[0mcontinent\u001b[0m\u001b[1;33m\u001b[0m\u001b[1;33m\u001b[0m\u001b[0m\n\u001b[0;32m      8\u001b[0m \u001b[1;33m\u001b[0m\u001b[0m\n\u001b[1;32m----> 9\u001b[1;33m \u001b[0mdf_cg_temp\u001b[0m\u001b[1;33m[\u001b[0m\u001b[1;34m'Continent'\u001b[0m\u001b[1;33m]\u001b[0m\u001b[1;33m=\u001b[0m \u001b[0mdf_cg_temp\u001b[0m\u001b[1;33m[\u001b[0m\u001b[1;34m'Country/Region'\u001b[0m\u001b[1;33m]\u001b[0m\u001b[1;33m.\u001b[0m\u001b[0mapply\u001b[0m\u001b[1;33m(\u001b[0m\u001b[0mfind_continent\u001b[0m\u001b[1;33m)\u001b[0m\u001b[1;33m\u001b[0m\u001b[1;33m\u001b[0m\u001b[0m\n\u001b[0m        \u001b[1;36mglobal\u001b[0m \u001b[0;36mdf_cg_temp\u001b[0m \u001b[1;34m=                 Province/State   Country/Region        Lat        Long  \\\n243                        NaN               US  40.000000 -100.000000   \n30                         NaN           Brazil -14.235000  -51.925300   \n143                        NaN            India  20.593684   78.962880   \n208                        NaN           Russia  61.524010  105.318756   \n202                        NaN             Peru  -9.190000  -75.015200   \n..                         ...              ...        ...         ...   \n124  Saint Pierre and Miquelon           France  46.885200  -56.315900   \n247                   Anguilla   United Kingdom  18.220600  -63.068600   \n85                       Tibet            China  31.692700   88.092400   \n41            Diamond Princess           Canada   0.000000    0.000000   \n223                        NaN  Solomon Islands  -9.645700  160.156200   \n\n         total  \n243  746265153  \n30   425648502  \n143  407691001  \n208  132516562  \n202   74471114  \n..         ...  \n124        920  \n247        611  \n85         264  \n41          33  \n223         19  \n\n[267 rows x 5 columns]\u001b[0m\u001b[1;34m\n        \u001b[0m\u001b[1;36mglobal\u001b[0m \u001b[0;36mdf_cg_temp.apply\u001b[0m \u001b[1;34m= <bound method DataFrame.apply of                 Province/State   Country/Region        Lat        Long  \\\n243                        NaN               US  40.000000 -100.000000   \n30                         NaN           Brazil -14.235000  -51.925300   \n143                        NaN            India  20.593684   78.962880   \n208                        NaN           Russia  61.524010  105.318756   \n202                        NaN             Peru  -9.190000  -75.015200   \n..                         ...              ...        ...         ...   \n124  Saint Pierre and Miquelon           France  46.885200  -56.315900   \n247                   Anguilla   United Kingdom  18.220600  -63.068600   \n85                       Tibet            China  31.692700   88.092400   \n41            Diamond Princess           Canada   0.000000    0.000000   \n223                        NaN  Solomon Islands  -9.645700  160.156200   \n\n         total  \n243  746265153  \n30   425648502  \n143  407691001  \n208  132516562  \n202   74471114  \n..         ...  \n124        920  \n247        611  \n85         264  \n41          33  \n223         19  \n\n[267 rows x 5 columns]>\u001b[0m\u001b[1;34m\n        \u001b[0m\u001b[1;36mglobal\u001b[0m \u001b[0;36mfind_continent\u001b[0m \u001b[1;34m= <function find_continent at 0x000000EFD55E9A60>\u001b[0m\n\u001b[0;32m     10\u001b[0m \u001b[0mdf_dg_temp\u001b[0m\u001b[1;33m[\u001b[0m\u001b[1;34m'Continent'\u001b[0m\u001b[1;33m]\u001b[0m\u001b[1;33m=\u001b[0m \u001b[0mdf_dg_temp\u001b[0m\u001b[1;33m[\u001b[0m\u001b[1;34m'Country/Region'\u001b[0m\u001b[1;33m]\u001b[0m\u001b[1;33m.\u001b[0m\u001b[0mapply\u001b[0m\u001b[1;33m(\u001b[0m\u001b[0mfind_continent\u001b[0m\u001b[1;33m)\u001b[0m\u001b[1;33m\u001b[0m\u001b[1;33m\u001b[0m\u001b[0m\n\u001b[0;32m     11\u001b[0m \u001b[0mdf_rg_temp\u001b[0m\u001b[1;33m[\u001b[0m\u001b[1;34m'Continent'\u001b[0m\u001b[1;33m]\u001b[0m\u001b[1;33m=\u001b[0m \u001b[0mdf_rg_temp\u001b[0m\u001b[1;33m[\u001b[0m\u001b[1;34m'Country/Region'\u001b[0m\u001b[1;33m]\u001b[0m\u001b[1;33m.\u001b[0m\u001b[0mapply\u001b[0m\u001b[1;33m(\u001b[0m\u001b[0mfind_continent\u001b[0m\u001b[1;33m)\u001b[0m\u001b[1;33m\u001b[0m\u001b[1;33m\u001b[0m\u001b[0m\n",
      "\u001b[1;32mC:\\ProgramData\\Anaconda3\\lib\\site-packages\\pandas\\core\\series.py\u001b[0m in \u001b[0;36mapply\u001b[1;34m(self=243                 US\n30              Brazil\n14...\nName: Country/Region, Length: 267, dtype: object, func=<function find_continent>, convert_dtype=True, args=(), **kwds={})\u001b[0m\n\u001b[0;32m   3846\u001b[0m             \u001b[1;32melse\u001b[0m\u001b[1;33m:\u001b[0m\u001b[1;33m\u001b[0m\u001b[1;33m\u001b[0m\u001b[0m\n\u001b[0;32m   3847\u001b[0m                 \u001b[0mvalues\u001b[0m \u001b[1;33m=\u001b[0m \u001b[0mself\u001b[0m\u001b[1;33m.\u001b[0m\u001b[0mastype\u001b[0m\u001b[1;33m(\u001b[0m\u001b[0mobject\u001b[0m\u001b[1;33m)\u001b[0m\u001b[1;33m.\u001b[0m\u001b[0mvalues\u001b[0m\u001b[1;33m\u001b[0m\u001b[1;33m\u001b[0m\u001b[0m\n\u001b[1;32m-> 3848\u001b[1;33m                 \u001b[0mmapped\u001b[0m \u001b[1;33m=\u001b[0m \u001b[0mlib\u001b[0m\u001b[1;33m.\u001b[0m\u001b[0mmap_infer\u001b[0m\u001b[1;33m(\u001b[0m\u001b[0mvalues\u001b[0m\u001b[1;33m,\u001b[0m \u001b[0mf\u001b[0m\u001b[1;33m,\u001b[0m \u001b[0mconvert\u001b[0m\u001b[1;33m=\u001b[0m\u001b[0mconvert_dtype\u001b[0m\u001b[1;33m)\u001b[0m\u001b[1;33m\u001b[0m\u001b[1;33m\u001b[0m\u001b[0m\n\u001b[0m        \u001b[0;36mmapped\u001b[0m \u001b[1;34m= \u001b[1;36mundefined\u001b[0m\u001b[0m\u001b[1;34m\n        \u001b[0m\u001b[1;36mglobal\u001b[0m \u001b[0;36mlib.map_infer\u001b[0m \u001b[1;34m= <built-in function map_infer>\u001b[0m\u001b[1;34m\n        \u001b[0m\u001b[0;36mvalues\u001b[0m \u001b[1;34m= array(['US', 'Brazil', 'India', 'Russia', 'Peru', 'Spain', 'Mexico',\n       'South Africa', 'Colombia', 'United Kingdom', 'France', 'Iran',\n       'Chile', 'Italy', 'Argentina', 'Germany', 'Turkey', 'Saudi Arabia',\n       'Pakistan', 'Bangladesh', 'Iraq', 'Philippines', 'Indonesia',\n       'China', 'Qatar', 'Israel', 'Ukraine', 'Belgium', 'Ecuador',\n       'Netherlands', 'Egypt', 'Sweden', 'Bolivia', 'Kazakhstan',\n       'Romania', 'Dominican Republic', 'Kuwait', 'Belarus', 'Canada',\n       'Panama', 'United Arab Emirates', 'Oman', 'Portugal', 'Poland',\n       'Singapore', 'Morocco', 'Japan', 'Guatemala', 'Switzerland',\n       'Canada', 'Bahrain', 'Honduras', 'Nigeria', 'Armenia', 'Nepal',\n       'Ireland', 'Czechia', 'Afghanistan', 'Ghana', 'Algeria', 'Austria',\n       'Ethiopia', 'Venezuela', 'Moldova', 'Costa Rica', 'Uzbekistan',\n       'Kyrgyzstan', 'Azerbaijan', 'Serbia', 'Korea', 'Kenya', 'Denmark',\n       'El Salvador', 'Palestine', 'Cameroon', 'Paraguay', 'Lebanon',\n       'Bosnia and Herzegovina', \"Cote d'Ivoire\", 'Canada', 'Norway',\n       'Bulgaria', 'Libya', 'Australia', 'Malaysia', 'North Macedonia',\n       'Hungary', 'Sudan', 'Senegal', 'Finland', 'Madagascar', 'Greece',\n       'Kosovo', 'Croatia', 'Congo', 'Guinea', 'Luxembourg', 'Zambia',\n       'Tajikistan', 'Albania', 'Gabon', 'Haiti', 'Tunisia', 'France',\n       'Canada', 'Maldives', 'Mauritania', 'Slovakia', 'Djibouti',\n       'Australia', 'Jordan', 'Namibia', 'Montenegro', 'Thailand',\n       'Myanmar', 'Zimbabwe', 'Central African Republic', 'Cuba',\n       'Equatorial Guinea', 'Slovenia', 'China', 'Malawi', 'Nicaragua',\n       'Mozambique', 'Somalia', 'Lithuania', 'France', 'Congo',\n       'Cabo Verde', 'Uganda', 'Sri Lanka', 'Estonia', 'Eswatini',\n       'Georgia', 'Iceland', 'China', 'Mali', 'Rwanda', 'Jamaica',\n       'Suriname', 'South Sudan', 'China', 'China', 'New Zealand',\n       'Angola', 'Guinea-Bissau', 'Sierra Leone', 'Syria', 'China',\n       'France', 'Latvia', 'China', 'Malta', 'Benin', 'France', 'China',\n       'Uruguay', 'Cyprus', 'Bahamas', 'Burkina Faso', 'Gambia', 'Yemen',\n       'Trinidad and Tobago', 'Andorra', 'Australia', 'Canada',\n       'Netherlands', 'China', 'China', 'Canada', 'Niger', 'Botswana',\n       'China', 'China', 'London', 'Togo', 'China', 'Guyana', 'Liberia',\n       'Chad', 'China', 'Canada', 'China', 'San Marino', 'Australia',\n       'Vietnam', 'Sao Tome and Principe', 'United Kingdom', 'Lesotho',\n       'Belize', 'France', 'France', 'Taiwan', 'Australia', 'China',\n       'Tanzania', 'China', 'China', 'China', 'Mauritius', 'China',\n       'United Kingdom', 'Denmark', 'Canada', 'Comoros', 'China', 'China',\n       'Burundi', 'China', 'Netherlands', 'China', 'China',\n       'United Kingdom', 'United Kingdom', 'Australia', 'China',\n       'Mongolia', 'Eritrea', 'Cambodia', 'China', 'China',\n       'Papua New Guinea', 'China', 'Canada', 'United Kingdom', 'Brunei',\n       'United Kingdom', 'Monaco', 'France', 'Barbados', 'Bhutan',\n       'Australia', 'Netherlands', 'Liechtenstein', 'China', 'Seychelles',\n       'Antigua and Barbuda', 'China', 'Saint Vincent and the Grenadines',\n       'Canada', 'Australia', 'Netherlands', 'Fiji', 'China', 'Indonesia',\n       'United Kingdom', 'France', 'Grenada', 'Saint Lucia', 'Thailand',\n       'Dominica', 'Saint Kitts and Nevis', 'France', 'Canada', 'Denmark',\n       'Canada', 'United Kingdom', 'Rome', 'United Kingdom', 'Italy',\n       'Africa', 'Canada', 'France', 'United Kingdom', 'China', 'Canada',\n       'Solomon Islands'], dtype=object)\u001b[0m\u001b[1;34m\n        \u001b[0m\u001b[0;36mf\u001b[0m \u001b[1;34m= <function find_continent at 0x000000EFD55E9A60>\u001b[0m\u001b[1;34m\n        \u001b[0m\u001b[1;36mglobal\u001b[0m \u001b[0;36mconvert\u001b[0m \u001b[1;34m= \u001b[1;36mundefined\u001b[0m\u001b[0m\u001b[1;34m\n        \u001b[0m\u001b[0;36mconvert_dtype\u001b[0m \u001b[1;34m= True\u001b[0m\n\u001b[0;32m   3849\u001b[0m \u001b[1;33m\u001b[0m\u001b[0m\n\u001b[0;32m   3850\u001b[0m         \u001b[1;32mif\u001b[0m \u001b[0mlen\u001b[0m\u001b[1;33m(\u001b[0m\u001b[0mmapped\u001b[0m\u001b[1;33m)\u001b[0m \u001b[1;32mand\u001b[0m \u001b[0misinstance\u001b[0m\u001b[1;33m(\u001b[0m\u001b[0mmapped\u001b[0m\u001b[1;33m[\u001b[0m\u001b[1;36m0\u001b[0m\u001b[1;33m]\u001b[0m\u001b[1;33m,\u001b[0m \u001b[0mSeries\u001b[0m\u001b[1;33m)\u001b[0m\u001b[1;33m:\u001b[0m\u001b[1;33m\u001b[0m\u001b[1;33m\u001b[0m\u001b[0m\n",
      "\u001b[1;32mpandas\\_libs\\lib.pyx\u001b[0m in \u001b[0;36mpandas._libs.lib.map_infer\u001b[1;34m()\u001b[0m\n",
      "\u001b[1;32m<ipython-input-10-ca293fc541a8>\u001b[0m in \u001b[0;36mfind_continent\u001b[1;34m(country='Brazil')\u001b[0m\n\u001b[0;32m      1\u001b[0m \u001b[1;32mdef\u001b[0m \u001b[0mfind_continent\u001b[0m\u001b[1;33m(\u001b[0m\u001b[0mcountry\u001b[0m\u001b[1;33m)\u001b[0m\u001b[1;33m:\u001b[0m\u001b[1;33m\u001b[0m\u001b[1;33m\u001b[0m\u001b[0m\n\u001b[0;32m      2\u001b[0m     \u001b[0mcontinent\u001b[0m\u001b[1;33m=\u001b[0m\u001b[1;32mNone\u001b[0m\u001b[1;33m\u001b[0m\u001b[1;33m\u001b[0m\u001b[0m\n\u001b[1;32m----> 3\u001b[1;33m     \u001b[0malpha2\u001b[0m\u001b[1;33m=\u001b[0m \u001b[0mpyc\u001b[0m\u001b[1;33m.\u001b[0m\u001b[0mcountries\u001b[0m\u001b[1;33m.\u001b[0m\u001b[0msearch_fuzzy\u001b[0m\u001b[1;33m(\u001b[0m\u001b[1;34mf'{str(country)}'\u001b[0m\u001b[1;33m)\u001b[0m\u001b[1;33m[\u001b[0m\u001b[1;36m0\u001b[0m\u001b[1;33m]\u001b[0m\u001b[1;33m.\u001b[0m\u001b[0malpha_2\u001b[0m\u001b[1;33m\u001b[0m\u001b[1;33m\u001b[0m\u001b[0m\n\u001b[0m        \u001b[0;36malpha2\u001b[0m \u001b[1;34m= \u001b[1;36mundefined\u001b[0m\u001b[0m\u001b[1;34m\n        \u001b[0m\u001b[1;36mglobal\u001b[0m \u001b[0;36mpyc.countries.search_fuzzy.alpha_2\u001b[0m \u001b[1;34m= \u001b[1;36mundefined\u001b[0m\u001b[0m\n\u001b[0;32m      4\u001b[0m     \u001b[0mcontinent_code\u001b[0m\u001b[1;33m=\u001b[0m \u001b[0mpc\u001b[0m\u001b[1;33m.\u001b[0m\u001b[0mcountry_alpha2_to_continent_code\u001b[0m\u001b[1;33m(\u001b[0m\u001b[0malpha2\u001b[0m\u001b[1;33m)\u001b[0m\u001b[1;33m\u001b[0m\u001b[1;33m\u001b[0m\u001b[0m\n\u001b[0;32m      5\u001b[0m     \u001b[0mcontinent\u001b[0m\u001b[1;33m=\u001b[0m \u001b[0mpc\u001b[0m\u001b[1;33m.\u001b[0m\u001b[0mconvert_continent_code_to_continent_name\u001b[0m\u001b[1;33m(\u001b[0m\u001b[0mcontinent_code\u001b[0m\u001b[1;33m)\u001b[0m\u001b[1;33m\u001b[0m\u001b[1;33m\u001b[0m\u001b[0m\n",
      "\u001b[1;32mC:\\ProgramData\\Anaconda3\\lib\\site-packages\\pycountry\\__init__.py\u001b[0m in \u001b[0;36msearch_fuzzy\u001b[1;34m(self=<pycountry.ExistingCountries object>, query='brazil')\u001b[0m\n\u001b[0;32m     59\u001b[0m                 \u001b[1;31m# Some names include alternative versions which we want to\u001b[0m\u001b[1;33m\u001b[0m\u001b[1;33m\u001b[0m\u001b[1;33m\u001b[0m\u001b[0m\n\u001b[0;32m     60\u001b[0m                 \u001b[1;31m# match exactly.\u001b[0m\u001b[1;33m\u001b[0m\u001b[1;33m\u001b[0m\u001b[1;33m\u001b[0m\u001b[0m\n\u001b[1;32m---> 61\u001b[1;33m                 \u001b[1;32mfor\u001b[0m \u001b[0mv\u001b[0m \u001b[1;32min\u001b[0m \u001b[0mv\u001b[0m\u001b[1;33m.\u001b[0m\u001b[0msplit\u001b[0m\u001b[1;33m(\u001b[0m\u001b[1;34m';'\u001b[0m\u001b[1;33m)\u001b[0m\u001b[1;33m:\u001b[0m\u001b[1;33m\u001b[0m\u001b[1;33m\u001b[0m\u001b[0m\n\u001b[0m        \u001b[0;36mv\u001b[0m \u001b[1;34m= 'santarem'\u001b[0m\u001b[1;34m\n        \u001b[0m\u001b[0;36mv.split\u001b[0m \u001b[1;34m= <built-in method split of str object at 0x000000EFD585D830>\u001b[0m\n\u001b[0;32m     62\u001b[0m                     \u001b[1;32mif\u001b[0m \u001b[0mv\u001b[0m \u001b[1;33m==\u001b[0m \u001b[0mquery\u001b[0m\u001b[1;33m:\u001b[0m\u001b[1;33m\u001b[0m\u001b[1;33m\u001b[0m\u001b[0m\n\u001b[0;32m     63\u001b[0m                         \u001b[0madd_result\u001b[0m\u001b[1;33m(\u001b[0m\u001b[0mcandidate\u001b[0m\u001b[1;33m.\u001b[0m\u001b[0mcountry\u001b[0m\u001b[1;33m,\u001b[0m \u001b[1;36m49\u001b[0m\u001b[1;33m)\u001b[0m\u001b[1;33m\u001b[0m\u001b[1;33m\u001b[0m\u001b[0m\n",
      "\u001b[1;31mKeyboardInterrupt\u001b[0m: "
     ]
    }
   ],
   "source": [
    "def find_continent(country):\n",
    "    continent=None\n",
    "    alpha2= pyc.countries.search_fuzzy(f'{str(country)}')[0].alpha_2\n",
    "    continent_code= pc.country_alpha2_to_continent_code(alpha2)\n",
    "    continent= pc.convert_continent_code_to_continent_name(continent_code)\n",
    "\n",
    "    return continent\n",
    "\n",
    "df_cg_temp['Continent']= df_cg_temp['Country/Region'].apply(find_continent)\n",
    "df_dg_temp['Continent']= df_dg_temp['Country/Region'].apply(find_continent)\n",
    "df_rg_temp['Continent']= df_rg_temp['Country/Region'].apply(find_continent)"
   ]
  },
  {
   "cell_type": "markdown",
   "metadata": {},
   "source": [
    "<span style= 'color:brown'>In this section, I'll have a look at how COVID19 has been growing throughout the world from 22nd january 2020. I'll be using tree maps to show the share of COVID19 Cases worldwide and chloropleth maps with a time slider to show the daily impact of virus.<span>"
   ]
  },
  {
   "cell_type": "code",
   "execution_count": null,
   "metadata": {},
   "outputs": [],
   "source": [
    "fig= px.treemap(\n",
    "df_cg_temp,\n",
    "path=['Continent','Country/Region'],\n",
    "values='total',\n",
    "color='total',\n",
    "color_continuous_scale='iceFire',\n",
    "title='Current share of Worldwide Confirmed global COVID19 Cases'\n",
    ")\n",
    "fig.update_layout(\n",
    "font=dict(\n",
    "        family=\"Comic Sans MS\",\n",
    "        size=13,\n",
    "        color=\"RebeccaPurple\"\n",
    "    ))\n",
    "fig.show()"
   ]
  },
  {
   "cell_type": "markdown",
   "metadata": {},
   "source": [
    "<span style= 'color:brown'>United States has the most number of Covid 19 confirmed cases, followed by India and Brazil.\n",
    "It is worth praising as for Russia and Africa , the geographical territory is vast and they have kept the cases at bay.<span>"
   ]
  },
  {
   "cell_type": "code",
   "execution_count": null,
   "metadata": {},
   "outputs": [],
   "source": [
    "fig= px.treemap(\n",
    "df_dg_temp,\n",
    "path=['Continent','Country/Region'],\n",
    "values='total',\n",
    "color='total',\n",
    "color_continuous_scale='reds',\n",
    "title='Current share of Worldwide COVID19 Deaths'\n",
    ")\n",
    "fig.update_layout(\n",
    "font=dict(\n",
    "        family=\"Comic Sans MS\",\n",
    "        size=13,\n",
    "        color=\"RebeccaPurple\"\n",
    "    ))\n",
    "fig.show()"
   ]
  },
  {
   "cell_type": "markdown",
   "metadata": {},
   "source": [
    "<span style='color:brown'>When it comes to Death United States is still leading the Band as a concequence of Donal Trump decision to open up the economy with restriction. \n",
    "Brazil follows.<span>"
   ]
  },
  {
   "cell_type": "code",
   "execution_count": null,
   "metadata": {},
   "outputs": [],
   "source": [
    "fig= px.treemap(\n",
    "df_rg_temp,\n",
    "path=['Continent','Country/Region'],\n",
    "values='total',\n",
    "color='total',\n",
    "color_continuous_scale='greens',\n",
    "title='Current share of Worldwide COVID19 Recovery'\n",
    ")\n",
    "fig.update_layout(\n",
    "font=dict(\n",
    "        family=\"Comic Sans MS\",\n",
    "        size=13,\n",
    "        color=\"RebeccaPurple\"\n",
    "    ))\n",
    "fig.show()"
   ]
  },
  {
   "cell_type": "markdown",
   "metadata": {},
   "source": [
    "<span style='color:green'>When it comes to recovery of Confirmed cases India and Brazil are leading. It is worth praising for India where the recovery rate is extremely High.\n",
    "As for Brazil the recovery rate is high but the death rate levels the number.<span>"
   ]
  },
  {
   "cell_type": "markdown",
   "metadata": {},
   "source": [
    "<U><span style=\"color:red\">**Confirmed Cases and Fatalities are cummulative sums of all the previous days. In order to understand the daily trend, I'll create a column for daily cases and deaths that will be the difference between the current value and the previous day's value.**</span><U>"
   ]
  },
  {
   "cell_type": "code",
   "execution_count": null,
   "metadata": {},
   "outputs": [],
   "source": [
    "print(df_cg[dates_cg].shape)\n",
    "print(df_dg[dates_dg].shape)\n",
    "print(df_rg[dates_rg].shape)"
   ]
  },
  {
   "cell_type": "code",
   "execution_count": null,
   "metadata": {},
   "outputs": [],
   "source": [
    "# df_cg= df_cg.sort_values(by='Country/Region')\n",
    "# df_dg= df_dg.sort_values(by='Country/Region')\n",
    "# df_rg= df_rg.sort_values(by='Country/Region')"
   ]
  },
  {
   "cell_type": "code",
   "execution_count": null,
   "metadata": {},
   "outputs": [],
   "source": [
    "recovery= df_cg[dates].copy()\n",
    "recovery.index= df_cg['Country/Region']\n",
    "recovery"
   ]
  },
  {
   "cell_type": "code",
   "execution_count": null,
   "metadata": {
    "scrolled": false
   },
   "outputs": [],
   "source": [
    "deaths= df_dg[dates].copy()\n",
    "deaths.index= df_dg['Country/Region']\n",
    "deaths"
   ]
  },
  {
   "cell_type": "code",
   "execution_count": null,
   "metadata": {},
   "outputs": [],
   "source": [
    "confirmed= df_rg[dates].copy()\n",
    "confirmed.index= df_rg['Country/Region']\n",
    "confirmed"
   ]
  },
  {
   "cell_type": "code",
   "execution_count": null,
   "metadata": {},
   "outputs": [],
   "source": [
    "alpha= recovery.sum()\n",
    "bravo= deaths.sum()\n",
    "charlie= confirmed.sum()\n",
    "df= pd.concat([alpha,bravo,charlie],axis=1).reset_index()"
   ]
  },
  {
   "cell_type": "code",
   "execution_count": null,
   "metadata": {},
   "outputs": [],
   "source": [
    "df.columns= ['Date','Recovery','deaths','confirmed']"
   ]
  },
  {
   "cell_type": "code",
   "execution_count": null,
   "metadata": {},
   "outputs": [],
   "source": [
    "df['Date']= pd.to_datetime(df['Date'])\n",
    "df"
   ]
  },
  {
   "cell_type": "code",
   "execution_count": null,
   "metadata": {},
   "outputs": [],
   "source": [
    "lockdown_ended= str(pd.to_datetime('2020-05-30').date())\n",
    "\n",
    "fig= go.Figure(\n",
    ")\n",
    "fig.add_trace(\n",
    "go.Scatter(\n",
    "    x= df['Date'],\n",
    "    y= df['Recovery'],\n",
    "    marker={'color':'green'},\n",
    "    name='Recovery Rate'\n",
    ")\n",
    ")\n",
    "\n",
    "fig.add_annotation(\n",
    "    x=df['Date'].iloc[-1],\n",
    "    y= df['Recovery'].iloc[-1],\n",
    "    text= 'on {}, <b>{} </b> cases'.format(str(df['Date'].iloc[-1].date()),str(df['Recovery'].iloc[-1])),\n",
    "    bgcolor='white',\n",
    "    font={'color':'green'}\n",
    ")\n",
    "\n",
    "\n",
    "fig.add_trace(\n",
    "go.Scatter(\n",
    "    x= df['Date'],\n",
    "    y= df['deaths'],\n",
    "    name='Death Rate'\n",
    "\n",
    ")\n",
    ")\n",
    "fig.add_annotation(\n",
    "    x=df['Date'].iloc[-1],\n",
    "    y= df['deaths'].iloc[-1],\n",
    "    text= 'on {}, <b>{}</b> cases'.format(str(df['Date'].iloc[-1].date()),str(df['deaths'].iloc[-1])),\n",
    "    bgcolor='white',\n",
    "    font={'color':'red'}\n",
    "    \n",
    ")\n",
    "\n",
    "\n",
    "fig.add_trace(\n",
    "go.Scatter(\n",
    "    x= df['Date'],\n",
    "    y= df['confirmed'],\n",
    "    marker={'color':'blue'},\n",
    "    mode='lines',\n",
    "    name='Confirmed case Rate'\n",
    ")\n",
    ")\n",
    "fig.add_annotation(\n",
    "    x=df['Date'].iloc[-1],\n",
    "    y= df['confirmed'].iloc[-1],\n",
    "    text= 'on {}, <b>{}</b> cases'.format(str(df['Date'].iloc[-1].date()),str(df['confirmed'].iloc[-1])),\n",
    "    bgcolor='white'\n",
    ")\n",
    "fig.update_layout(\n",
    "title=' Comparision of Confirmed cases, Recovery rate and deaths of Covid 19 ',\n",
    "yaxis_title='Cases',\n",
    "xaxis_title='Months',\n",
    "xaxis=dict(tickmode='array',\n",
    "      tickvals=['2020-03-22','2020-04-22','2020-05-22','2020-06-22','2020-07-22','2020-08-22',\n",
    "               '2020-09-22','2020-10-22'],\n",
    "      ticktext=['March','April','May','June','July','August','September','October']),\n",
    "font=dict(\n",
    "        family=\"Comic Sans MS\",\n",
    "        size=13,\n",
    "        color=\"RebeccaPurple\"\n",
    "    )\n",
    ")\n",
    "fig.add_annotation(\n",
    "    x= lockdown_ended,\n",
    "    y= 8351,\n",
    "    ay=-80,\n",
    "    ax=1,\n",
    "    text=' India began to reopen here'\n",
    ")\n",
    "\n",
    "fig.show()"
   ]
  },
  {
   "cell_type": "markdown",
   "metadata": {},
   "source": [
    "India is also known for it's population and when it ended it's lockdown, it led to a major surge in Positive cases and which led to spike in recovery cases too."
   ]
  },
  {
   "cell_type": "code",
   "execution_count": null,
   "metadata": {},
   "outputs": [],
   "source": [
    "recovery_tmp= recovery.copy()\n",
    "r=recovery_tmp.reset_index()\n",
    "recovery_tmp= r.groupby('Country/Region').sum().copy()\n",
    "recent_date= str(pd.to_datetime(recovery_tmp.columns[-1]).date())\n",
    "top6= recovery_tmp.sort_values(by=recovery_tmp.columns[-1])[-6:][recovery_tmp.columns[-1]]\n",
    "dates= pd.to_datetime(recovery_tmp.columns)\n",
    "fig= go.Figure(\n",
    "    layout=dict(showlegend=False)\n",
    ")\n",
    "for i in range(len(recovery_tmp)):\n",
    "    fig.add_trace(\n",
    "        go.Scatter(\n",
    "            x= dates,\n",
    "            y= recovery_tmp.iloc[i].values,\n",
    "            text= recovery_tmp.index[i],\n",
    "            name=recovery_tmp.index[i]\n",
    "        )\n",
    "    )\n",
    "for i in range(5):\n",
    "    fig.add_annotation(\n",
    "        x= recent_date,\n",
    "        y= top6[-i],\n",
    "        text= top6.index[-i],\n",
    "        showarrow=False\n",
    "    )\n",
    "fig.add_annotation(\n",
    "    x= lockdown_ended,\n",
    "    y= 8351,\n",
    "    ay=-80,\n",
    "     ax=1,\n",
    "    text=' India begins to reopen here'\n",
    ")\n",
    "fig.update_layout(\n",
    "    title=' Comparision of India with recovery rate in different countries',\n",
    "    xaxis_title=' Cases',\n",
    "    yaxis_title=' Months'\n",
    ")\n",
    "font=dict(\n",
    "        family=\"Comic Sans MS\",\n",
    "        size=13,\n",
    "        color=\"RebeccaPurple\"\n",
    "    )\n",
    "\n",
    "fig.show()\n"
   ]
  },
  {
   "cell_type": "markdown",
   "metadata": {},
   "source": [
    "India Ended its major lockdown on 31st May 2020 and we can see a major spike in cases after that"
   ]
  },
  {
   "cell_type": "code",
   "execution_count": null,
   "metadata": {},
   "outputs": [],
   "source": [
    "deaths_tmp= deaths.sort_values(by='10/18/20',ascending=False)[:5].copy()\n",
    "spike_day= str(pd.to_datetime('2020-06-14').date())\n",
    "r=deaths_tmp.reset_index()\n",
    "deaths_tmp= r.groupby('Country/Region').sum().copy()\n",
    "recent_date= str(pd.to_datetime(deaths_tmp.columns[-1]).date())\n",
    "top6= deaths_tmp.sort_values(by=deaths_tmp.columns[-1])[-6:][deaths_tmp.columns[-1]]\n",
    "dates= pd.to_datetime(deaths_tmp.columns)\n",
    "fig= go.Figure(layout=dict(showlegend=False))\n",
    "for i in range(len(deaths_tmp)):\n",
    "    fig.add_trace(\n",
    "        go.Scatter(\n",
    "            x= dates,\n",
    "            y= deaths_tmp.iloc[i].values,\n",
    "            text= deaths_tmp.index[i],\n",
    "            name=deaths_tmp.index[i]\n",
    "        )\n",
    "    )\n",
    "for i in range(5):\n",
    "    fig.add_annotation(\n",
    "        x= recent_date,\n",
    "        y= top6[-i],\n",
    "        text= top6.index[-i],\n",
    "        showarrow=False\n",
    "    )\n",
    "fig.add_annotation(\n",
    "    x= lockdown_ended,\n",
    "    y= 5185,\n",
    "    ay=-60,\n",
    "     ax=1,\n",
    "    text=' India begins to reopen here'\n",
    ")\n",
    "\n",
    "fig.add_annotation(\n",
    "    arrowsize=2,\n",
    "    arrowhead=1,\n",
    "    x= spike_day,\n",
    "    y= 12237,\n",
    "    ay=-100,\n",
    "     ax=-10,\n",
    "    text='<b>The Surge in cases, approx(3k)</b>'\n",
    ")\n",
    "fig.update_layout(\n",
    "    title=' Comparision of India with Death rate in different countries',\n",
    "    xaxis_title=' Cases',\n",
    "    yaxis_title=' Months'\n",
    ")\n",
    "font=dict(\n",
    "        family=\"Comic Sans MS\",\n",
    "        size=13,\n",
    "        color=\"RebeccaPurple\"\n",
    "    )\n",
    "\n",
    "fig.show()\n",
    "\n"
   ]
  },
  {
   "cell_type": "markdown",
   "metadata": {},
   "source": [
    "As India began to reopen it's economy on 31st may 2020, it led to a surge in cases and death rate after 2-3 weeks"
   ]
  },
  {
   "cell_type": "code",
   "execution_count": null,
   "metadata": {},
   "outputs": [],
   "source": [
    "confirmed_tmp= confirmed.sort_values(by='10/18/20',ascending=False)[:5].copy()\n",
    "r=confirmed_tmp.reset_index()\n",
    "confirmed_tmp= r.groupby('Country/Region').sum().copy()\n",
    "recent_date= str(pd.to_datetime(confirmed_tmp.columns[-1]).date())\n",
    "top6= confirmed_tmp.sort_values(by=confirmed_tmp.columns[-1])[-6:][confirmed_tmp.columns[-1]]\n",
    "dates= pd.to_datetime(confirmed_tmp.columns)\n",
    "fig= go.Figure(layout=dict(showlegend=False))\n",
    "for i in range(len(confirmed_tmp)):\n",
    "    fig.add_trace(\n",
    "        go.Scatter(\n",
    "            x= dates,\n",
    "            y= confirmed_tmp.iloc[i].values,\n",
    "            text= confirmed_tmp.index[i],\n",
    "            name=confirmed_tmp.index[i]\n",
    "        )\n",
    "    )\n",
    "for i in range(5):\n",
    "    fig.add_annotation(\n",
    "        x= recent_date,\n",
    "        y= top6[-i],\n",
    "        text= top6.index[-i],\n",
    "        showarrow=False\n",
    "    )\n",
    "\n",
    "fig.update_layout(\n",
    "    title=' Comparision of s cases arriving in different countries',\n",
    "    xaxis_title=' Cases',\n",
    "    yaxis_title=' Months'\n",
    ")\n",
    "fig.add_annotation(\n",
    "    x= lockdown_ended,\n",
    "    y= 8351,\n",
    "    ay=-60,\n",
    "     ax=1,\n",
    "    text=' India begins to reopen here'\n",
    ")\n",
    "font=dict(\n",
    "        family=\"Comic Sans MS\",\n",
    "        size=13,\n",
    "        color=\"RebeccaPurple\"\n",
    "    )\n",
    "\n",
    "fig.show()\n",
    "\n"
   ]
  },
  {
   "cell_type": "code",
   "execution_count": null,
   "metadata": {},
   "outputs": [],
   "source": [
    "data = go.Scattergeo(\n",
    "        lon = df_cg['Long'],\n",
    "        lat = df_cg['Lat'],\n",
    "        mode = 'markers',\n",
    "        marker = dict(symbol = 'star',size=5,colorscale = 'Reds'),\n",
    "        text = df_cg['10/13/20'],\n",
    "        )\n",
    "fig = go.Figure(data = [data])\n",
    "fig.show()"
   ]
  },
  {
   "cell_type": "code",
   "execution_count": null,
   "metadata": {},
   "outputs": [],
   "source": [
    "df_country_wise.head()"
   ]
  },
  {
   "cell_type": "code",
   "execution_count": null,
   "metadata": {},
   "outputs": [],
   "source": []
  },
  {
   "cell_type": "code",
   "execution_count": null,
   "metadata": {},
   "outputs": [],
   "source": []
  },
  {
   "cell_type": "code",
   "execution_count": null,
   "metadata": {},
   "outputs": [],
   "source": []
  },
  {
   "cell_type": "code",
   "execution_count": null,
   "metadata": {},
   "outputs": [],
   "source": []
  },
  {
   "cell_type": "code",
   "execution_count": null,
   "metadata": {},
   "outputs": [],
   "source": []
  },
  {
   "cell_type": "code",
   "execution_count": null,
   "metadata": {},
   "outputs": [],
   "source": []
  }
 ],
 "metadata": {
  "kernelspec": {
   "display_name": "Python 3",
   "language": "python",
   "name": "python3"
  },
  "language_info": {
   "codemirror_mode": {
    "name": "ipython",
    "version": 3
   },
   "file_extension": ".py",
   "mimetype": "text/x-python",
   "name": "python",
   "nbconvert_exporter": "python",
   "pygments_lexer": "ipython3",
   "version": "3.7.3"
  }
 },
 "nbformat": 4,
 "nbformat_minor": 4
}
